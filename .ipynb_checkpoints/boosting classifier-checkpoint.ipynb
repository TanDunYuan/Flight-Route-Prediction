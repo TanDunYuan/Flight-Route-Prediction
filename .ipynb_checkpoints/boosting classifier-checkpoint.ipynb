{
 "cells": [
  {
   "cell_type": "code",
   "execution_count": 1,
   "metadata": {},
   "outputs": [
    {
     "name": "stderr",
     "output_type": "stream",
     "text": [
      "D:\\anaconda\\lib\\site-packages\\sklearn\\ensemble\\weight_boosting.py:29: DeprecationWarning: numpy.core.umath_tests is an internal NumPy module and should not be imported. It will be removed in a future NumPy release.\n",
      "  from numpy.core.umath_tests import inner1d\n"
     ]
    }
   ],
   "source": [
    "import numpy as np\n",
    "import itertools\n",
    "import matplotlib.pyplot as plt\n",
    "import pandas as pd\n",
    "from sklearn import ensemble\n",
    "from sklearn.model_selection import KFold\n",
    "from sklearn.model_selection import train_test_split\n",
    "from sklearn.ensemble import GradientBoostingClassifier\n",
    "from sklearn.metrics import classification_report, confusion_matrix, roc_curve, auc\n",
    "\n"
   ]
  },
  {
   "cell_type": "code",
   "execution_count": 2,
   "metadata": {},
   "outputs": [
    {
     "data": {
      "text/plain": [
       "flightid                    int64\n",
       "callsign                   object\n",
       "Origin                     object\n",
       "Destination                object\n",
       "OBT                        object\n",
       "Date               datetime64[ns]\n",
       "TOT                        object\n",
       "Arrivaltime                object\n",
       "RFL                         int64\n",
       "Airline                    object\n",
       "aircrafttype               object\n",
       "WVC                        object\n",
       "routelength               float64\n",
       "cost                      float64\n",
       "routenumber                 int64\n",
       "arrivaldatetime    datetime64[ns]\n",
       "arrivaltime_hr              int64\n",
       "dtype: object"
      ]
     },
     "execution_count": 2,
     "metadata": {},
     "output_type": "execute_result"
    }
   ],
   "source": [
    "df=pd.read_excel('cleantdata.xlsx')\n",
    "df.dtypes"
   ]
  },
  {
   "cell_type": "code",
   "execution_count": 3,
   "metadata": {},
   "outputs": [],
   "source": [
    "from numpy import array\n",
    "from numpy import argmax\n",
    "from sklearn.preprocessing import LabelEncoder\n",
    "from sklearn.preprocessing import OneHotEncoder\n",
    "\n",
    "def one_hot_encode(input):\n",
    "    values = array(input)\n",
    "    label_encoder = LabelEncoder()\n",
    "    integer_encoded = label_encoder.fit_transform(values)\n",
    "    integer_encoded = label_encoder.fit_transform(values)\n",
    "    onehot_encoder = OneHotEncoder(sparse=False)\n",
    "    integer_encoded = integer_encoded.reshape(len(integer_encoded), 1)\n",
    "    onehot_encoded = onehot_encoder.fit_transform(integer_encoded)\n",
    "    return onehot_encoded\n"
   ]
  },
  {
   "cell_type": "code",
   "execution_count": 4,
   "metadata": {},
   "outputs": [],
   "source": [
    "airlabel=one_hot_encode(df.aircrafttype)\n",
    "airlinelabel=one_hot_encode(df.Airline)\n",
    "routelabel=one_hot_encode(df.routenumber)\n",
    "x=np.concatenate( [airlabel,airlinelabel,np.c_[df.arrivaltime_hr]], axis=1 )\n",
    "y=df.routenumber\n",
    "\n",
    "from sklearn.utils import shuffle\n",
    "x,y=shuffle(x,y,random_state=1)\n",
    "class_names=['route1','route2','route3','route4','route5']\n",
    "#^ only suitable for this particular data set because k means cluster was identified as 5 distinct routes"
   ]
  },
  {
   "cell_type": "code",
   "execution_count": 5,
   "metadata": {},
   "outputs": [],
   "source": [
    "X_train, X_test, y_train, y_test = train_test_split(x, y, test_size=0.5,\n",
    "                                                    random_state=9)\n"
   ]
  },
  {
   "cell_type": "code",
   "execution_count": 6,
   "metadata": {},
   "outputs": [
    {
     "name": "stdout",
     "output_type": "stream",
     "text": [
      "Learning rate:  0.02\n",
      "Accuracy score (training): 0.71154\n",
      "Accuracy score (validation): 0.66038\n",
      "\n",
      "Learning rate:  0.04\n",
      "Accuracy score (training): 0.86538\n",
      "Accuracy score (validation): 0.75472\n",
      "\n",
      "Learning rate:  0.05\n",
      "Accuracy score (training): 0.86538\n",
      "Accuracy score (validation): 0.75472\n",
      "\n",
      "Learning rate:  0.1\n",
      "Accuracy score (training): 0.88462\n",
      "Accuracy score (validation): 0.75472\n",
      "\n",
      "Learning rate:  0.25\n",
      "Accuracy score (training): 0.88462\n",
      "Accuracy score (validation): 0.75472\n",
      "\n",
      "Learning rate:  0.5\n",
      "Accuracy score (training): 0.88462\n",
      "Accuracy score (validation): 0.75472\n",
      "\n",
      "Learning rate:  0.6\n",
      "Accuracy score (training): 0.88462\n",
      "Accuracy score (validation): 0.73585\n",
      "\n"
     ]
    }
   ],
   "source": [
    "#assess the accuracy for for diferent learning rate using gradient boosting classifier\n",
    "\n",
    "learning_rates = [0.02, 0.04, 0.05, 0.1, 0.25, 0.5, 0.6,]\n",
    "for learning_rate in learning_rates:\n",
    "    gb = GradientBoostingClassifier(n_estimators=20, learning_rate = learning_rate, max_features=2, max_depth = 2, random_state = 0)\n",
    "    gb.fit(X_train, y_train)\n",
    "    print(\"Learning rate: \", learning_rate)\n",
    "    print(\"Accuracy score (training): {0:.5f}\".format(gb.score(X_train, y_train)))\n",
    "    print(\"Accuracy score (validation): {0:.5f}\".format(gb.score(X_test, y_test)))\n",
    "    print()"
   ]
  },
  {
   "cell_type": "code",
   "execution_count": 7,
   "metadata": {},
   "outputs": [],
   "source": [
    "def plot_confusion_matrix(y_true ,y_pred , classes,\n",
    "                          normalize=False,\n",
    "                          title='Confusion matrix',\n",
    "                          cmap=plt.cm.Blues):\n",
    "    \"\"\"\n",
    "    This function prints and plots the confusion matrix.\n",
    "    Normalization can be applied by setting `normalize=True`.\n",
    "    \n",
    "\n",
    "    \"\"\"\n",
    "    cm=confusion_matrix(y_true,y_pred)\n",
    "    if normalize:\n",
    "        cm = cm.astype('float') / cm.sum(axis=1)[:, np.newaxis]\n",
    "        print(\"Normalized confusion matrix\")\n",
    "    else:\n",
    "        print('Confusion matrix, without normalization')\n",
    "\n",
    "    print(cm)\n",
    "    print()\n",
    "    \n",
    "    print(\"Classification Report\")\n",
    "    print(classification_report(y_true,y_pred))\n",
    "    print()\n",
    "    \n",
    "    plt.imshow(cm, interpolation='nearest', cmap=cmap)\n",
    "    plt.title(title)\n",
    "    plt.colorbar()\n",
    "    tick_marks = np.arange(len(classes))\n",
    "    plt.xticks(tick_marks, classes, rotation=45)\n",
    "    plt.yticks(tick_marks, classes)\n",
    "\n",
    "    fmt = '.2f' if normalize else 'd'\n",
    "    thresh = cm.max() / 2.\n",
    "    for i, j in itertools.product(range(cm.shape[0]), range(cm.shape[1])):\n",
    "        plt.text(j, i, format(cm[i, j], fmt),\n",
    "                 horizontalalignment=\"center\",\n",
    "                 color=\"white\" if cm[i, j] > thresh else \"black\")\n",
    "\n",
    "    plt.tight_layout()\n",
    "    plt.ylabel('True label')\n",
    "    plt.xlabel('Predicted label')\n"
   ]
  },
  {
   "cell_type": "code",
   "execution_count": 8,
   "metadata": {},
   "outputs": [],
   "source": [
    "gb = GradientBoostingClassifier(n_estimators=20, learning_rate = 0.4, max_features=2, max_depth = 2, random_state = 0)\n",
    "gb.fit(X_test, y_test)\n",
    "y_pred = gb.predict(X_test)\n",
    "cnf_matrix = confusion_matrix(y_test, y_pred)\n"
   ]
  },
  {
   "cell_type": "code",
   "execution_count": 9,
   "metadata": {},
   "outputs": [
    {
     "name": "stdout",
     "output_type": "stream",
     "text": [
      "Confusion matrix, without normalization\n",
      "[[ 1  2  0  0  0]\n",
      " [ 0 28  0  1  0]\n",
      " [ 1  1  7  0  0]\n",
      " [ 0  1  2  4  0]\n",
      " [ 0  0  0  0  5]]\n",
      "\n",
      "Classification Report\n",
      "             precision    recall  f1-score   support\n",
      "\n",
      "          0       0.50      0.33      0.40         3\n",
      "          1       0.88      0.97      0.92        29\n",
      "          2       0.78      0.78      0.78         9\n",
      "          3       0.80      0.57      0.67         7\n",
      "          4       1.00      1.00      1.00         5\n",
      "\n",
      "avg / total       0.84      0.85      0.84        53\n",
      "\n",
      "\n"
     ]
    },
    {
     "data": {
      "image/png": "[encoded data removed]",
      "text/plain": [
       "<Figure size 432x288 with 2 Axes>"
      ]
     },
     "metadata": {},
     "output_type": "display_data"
    }
   ],
   "source": [
    "# Plot non-normalized confusion matrix\n",
    "plt.figure()\n",
    "plot_confusion_matrix(y_test, y_pred, classes=class_names,\n",
    "                      title='Confusion matrix, without normalization')"
   ]
  },
  {
   "cell_type": "code",
   "execution_count": null,
   "metadata": {},
   "outputs": [],
   "source": [
    "\n"
   ]
  },
  {
   "cell_type": "code",
   "execution_count": null,
   "metadata": {},
   "outputs": [],
   "source": []
  },
  {
   "cell_type": "code",
   "execution_count": null,
   "metadata": {},
   "outputs": [],
   "source": []
  },
  {
   "cell_type": "code",
   "execution_count": null,
   "metadata": {},
   "outputs": [],
   "source": []
  }
 ],
 "metadata": {
  "kernelspec": {
   "display_name": "Python 3",
   "language": "python",
   "name": "python3"
  },
  "language_info": {
   "codemirror_mode": {
    "name": "ipython",
    "version": 3
   },
   "file_extension": ".py",
   "mimetype": "text/x-python",
   "name": "python",
   "nbconvert_exporter": "python",
   "pygments_lexer": "ipython3",
   "version": "3.6.6"
  }
 },
 "nbformat": 4,
 "nbformat_minor": 2
}
