{
 "cells": [
  {
   "cell_type": "code",
   "execution_count": 1,
   "metadata": {},
   "outputs": [],
   "source": [
    "import pandas as pd\n",
    "from sklearn.cluster import KMeans\n",
    "from sklearn.preprocessing import LabelEncoder\n",
    "import matplotlib.pyplot as plt\n",
    "import matplotlib\n",
    "import numpy as np\n",
    "from sklearn import preprocessing\n",
    "matplotlib.style.use('ggplot') # Look Pretty\n"
   ]
  },
  {
   "cell_type": "code",
   "execution_count": 2,
   "metadata": {},
   "outputs": [
    {
     "data": {
      "text/plain": [
       "flightid                 int64\n",
       "callsign                object\n",
       "Origin                  object\n",
       "Destination             object\n",
       "OBT                     object\n",
       "Date            datetime64[ns]\n",
       "TOT                     object\n",
       "Arrivaltime             object\n",
       "RFL                      int64\n",
       "Airline                 object\n",
       "aircrafttype            object\n",
       "WVC                     object\n",
       "routelength            float64\n",
       "cost                   float64\n",
       "dtype: object"
      ]
     },
     "execution_count": 2,
     "metadata": {},
     "output_type": "execute_result"
    }
   ],
   "source": [
    "df=pd.read_excel('dataset/FlightList_Blank_1806_439_for_reference_Custom.xlsx')\n",
    "df.dtypes"
   ]
  },
  {
   "cell_type": "code",
   "execution_count": 3,
   "metadata": {},
   "outputs": [],
   "source": [
    "def doKMeans(var1,var2,ncluster):\n",
    "\n",
    "  #\n",
    "  # TODO: Filter dataframe so that you're only looking at Longitude and Latitude,\n",
    "  # since the remaining columns aren't really applicable for this purpose.\n",
    "  #\n",
    "  # .. your code here ..\n",
    "  df = pd.concat([var1, var2], axis = 1)\n",
    "\n",
    "  #\n",
    "  # INFO: Plot your data with a '.' marker, with 0.3 alpha at the Latitude and Longitude locations in your dataset.\n",
    "  # Longitude = x, Latitude = y!\n",
    "  fig = plt.figure()\n",
    "  ax = fig.add_subplot(111)\n",
    "  ax.scatter(x = var1, y = var2, marker='.', alpha=0.3, s = 30)\n",
    "\n",
    "  #\n",
    "  # TODO: Use K-Means to try and find seven cluster centers in this dataframe.\n",
    "  #\n",
    "  # .. your code here ..\n",
    "  kmeans_model = KMeans(n_clusters = ncluster, init = 'random', n_init = 60, max_iter = 360, random_state = 43)\n",
    "  labels = kmeans_model.fit_predict(df)\n",
    "\n",
    "  #\n",
    "  # INFO: Print and plot the centroids...\n",
    "  centroids = kmeans_model.cluster_centers_\n",
    "  ax.scatter(x = centroids[:,0], y = centroids[:,1], marker='x', c='red', alpha=0.7, linewidths=3, s = 120)\n",
    "\n",
    "  print (centroids)\n",
    "    \n",
    "  return labels\n"
   ]
  },
  {
   "cell_type": "code",
   "execution_count": 4,
   "metadata": {},
   "outputs": [
    {
     "name": "stdout",
     "output_type": "stream",
     "text": [
      "[[1751.07348173 1921.83738157]\n",
      " [1620.38904649 2011.40067642]\n",
      " [1627.93259433 2165.72367484]\n",
      " [1763.69515535 1429.27711747]\n",
      " [1617.2216971  2421.01038724]]\n"
     ]
    },
    {
     "data": {
      "image/png": "[encoded data removed]",
      "text/plain": [
       "<Figure size 432x288 with 1 Axes>"
      ]
     },
     "metadata": {},
     "output_type": "display_data"
    }
   ],
   "source": [
    "#classify the routes based on their routelength and cost\n",
    "#is a good reprenstation since diff route will result in diff lenght and tax charges\n",
    "\n",
    "df[\"routenumber\"]=doKMeans(df.routelength,df.cost,5)"
   ]
  },
  {
   "cell_type": "code",
   "execution_count": 5,
   "metadata": {
    "scrolled": false
   },
   "outputs": [],
   "source": [
    "# segment the flight by their time of flight \n",
    "#first combine the date with the arrivaal time into a variable of type datetime\n",
    "combine_date_n_time=df.Date.astype(str)+\" \"+df.Arrivaltime.astype(str)\n",
    "df['arrivaldatetime'] = pd.Series(pd.to_datetime(combine_date_n_time, errors='coerce'), index=df.index)\n",
    "\n"
   ]
  },
  {
   "cell_type": "code",
   "execution_count": 9,
   "metadata": {},
   "outputs": [
    {
     "name": "stderr",
     "output_type": "stream",
     "text": [
      "D:\\anaconda\\lib\\site-packages\\pandas\\core\\indexing.py:189: SettingWithCopyWarning: \n",
      "A value is trying to be set on a copy of a slice from a DataFrame\n",
      "\n",
      "See the caveats in the documentation: http://pandas.pydata.org/pandas-docs/stable/indexing.html#indexing-view-versus-copy\n",
      "  self._setitem_with_indexer(indexer, value)\n"
     ]
    }
   ],
   "source": [
    "#then create a new column containin the hr of the flight \n",
    "df['arrivaltime_hr']=\"\"\n",
    "for columns in range(0,len(df.arrivaldatetime)):\n",
    "    df['arrivaltime_hr'].loc[columns]=df.arrivaldatetime.loc[columns].hour\n",
    "\n"
   ]
  },
  {
   "cell_type": "code",
   "execution_count": 7,
   "metadata": {},
   "outputs": [
    {
     "data": {
      "image/png": "[encoded data removed]",
      "text/plain": [
       "<Figure size 432x288 with 1 Axes>"
      ]
     },
     "metadata": {},
     "output_type": "display_data"
    }
   ],
   "source": [
    "#plot the occurences over 24 hours to visualize the data\n",
    "listofhrs = {'hrs': list(range(24))}\n",
    "listofhrs = pd.DataFrame(data=listofhrs)\n",
    "listofhrs[\"occurence\"] = 0\n",
    "\n",
    "\n",
    "for columns in range(0,len(df.arrivaltime_hr)):\n",
    "    for num in range(0,len(listofhrs.hrs)):\n",
    "        if df.arrivaltime_hr.loc[columns]==listofhrs.hrs.loc[num]:\n",
    "            listofhrs.occurence.loc[num]+=1\n",
    "            \n",
    "plt.figure();\n",
    "listofhrs.occurence.plot(kind='bar');\n"
   ]
  },
  {
   "cell_type": "code",
   "execution_count": 8,
   "metadata": {},
   "outputs": [],
   "source": [
    "writer = pd.ExcelWriter('cleantdata.xlsx')\n",
    "df.to_excel(writer,'Sheet1')#\n",
    "writer.save()\n"
   ]
  },
  {
   "cell_type": "code",
   "execution_count": null,
   "metadata": {},
   "outputs": [],
   "source": []
  }
 ],
 "metadata": {
  "kernelspec": {
   "display_name": "Python 3",
   "language": "python",
   "name": "python3"
  },
  "language_info": {
   "codemirror_mode": {
    "name": "ipython",
    "version": 3
   },
   "file_extension": ".py",
   "mimetype": "text/x-python",
   "name": "python",
   "nbconvert_exporter": "python",
   "pygments_lexer": "ipython3",
   "version": "3.6.6"
  }
 },
 "nbformat": 4,
 "nbformat_minor": 2
}
